{
 "cells": [
  {
   "cell_type": "code",
   "execution_count": 2,
   "metadata": {},
   "outputs": [],
   "source": [
    "import pandas as pd\n",
    "import numpy as np\n",
    "from scipy.signal import find_peaks\n",
    "import argparse\n",
    "import os"
   ]
  },
  {
   "cell_type": "code",
   "execution_count": 11,
   "metadata": {},
   "outputs": [],
   "source": [
    "minimum_cluster_size = 1000\n",
    "cluster_df = pd.read_csv('../test_output/cluster_stats.csv')\n",
    "assembled_annotation_in = pd.read_csv('../test_output/F053-IgG-A-T_S3_L001.assembled_filtered',sep='\\t')\n",
    "assembled_annotation_out = ''\n",
    "matches = pd.read_csv('../test_output/matches.m8',sep='\\t',header=None,\n",
    "                        names=['query_id','target_id','percent_identity','alignment_length','mismatches','gapopen','qstart','qend','tstart','tend','evalue','bit_score','qlen','tlen'])\n",
    "matches = matches.loc[matches.groupby('query_id')['bit_score'].idxmax()]\n",
    "\n",
    "subset = cluster_df[(cluster_df['num_seqs']>minimum_cluster_size) & (cluster_df['num_peaks']>1)]\n",
    "targets = subset['target_id']\n",
    "subset = matches[matches['target_id'].isin(targets)]\n",
    "aa_file_subset = assembled_annotation_in[assembled_annotation_in['readId'].isin(subset['query_id'].astype(int))]\n",
    "aa_file_subset = pd.merge(assembled_annotation_in, subset[['query_id','target_id']], left_on='readId', right_on = 'query_id')"
   ]
  },
  {
   "cell_type": "code",
   "execution_count": 13,
   "metadata": {},
   "outputs": [
    {
     "data": {
      "text/plain": [
       "target_id\n",
       "86984    63153\n",
       "91333     3509\n",
       "89664     1858\n",
       "58360     1352\n",
       "54063      396\n",
       "520        291\n",
       "1018       174\n",
       "512        163\n",
       "2715        68\n",
       "54058       65\n",
       "2970        34\n",
       "1998        15\n",
       "4430        14\n",
       "3905         7\n",
       "3649         5\n",
       "1562         5\n",
       "3185         2\n",
       "3827         1\n",
       "4351         1\n",
       "Name: count, dtype: int64"
      ]
     },
     "execution_count": 13,
     "metadata": {},
     "output_type": "execute_result"
    }
   ],
   "source": [
    "aa_file_subset['target_id'].value_counts()"
   ]
  },
  {
   "cell_type": "code",
   "execution_count": null,
   "metadata": {},
   "outputs": [],
   "source": []
  }
 ],
 "metadata": {
  "kernelspec": {
   "display_name": "dalton",
   "language": "python",
   "name": "python3"
  },
  "language_info": {
   "codemirror_mode": {
    "name": "ipython",
    "version": 3
   },
   "file_extension": ".py",
   "mimetype": "text/x-python",
   "name": "python",
   "nbconvert_exporter": "python",
   "pygments_lexer": "ipython3",
   "version": "3.9.21"
  }
 },
 "nbformat": 4,
 "nbformat_minor": 2
}
